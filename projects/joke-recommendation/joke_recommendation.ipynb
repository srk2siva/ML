{
 "cells": [
  {
   "cell_type": "code",
   "execution_count": 20,
   "metadata": {},
   "outputs": [
    {
     "name": "stdout",
     "output_type": "stream",
     "text": [
      "4.0502161509427355 1.609103673489961\n"
     ]
    }
   ],
   "source": [
    "import numpy as np\n",
    "from scipy import linalg\n",
    "import matplotlib.pyplot as plt\n",
    "from scipy.sparse.linalg import svds, eigs\n",
    "import itertools\n",
    "\n",
    "# function that imports the data\n",
    "def import_data(filename):\n",
    "    file = open(\"./jr_data/\"+filename,'r')\n",
    "    lines = file.readlines()\n",
    "    lst = []\n",
    "    for line in lines:\n",
    "        i,j,r = line.split(',')\n",
    "        lst.append([int(i)-1,int(j)-1,float(r)])\n",
    "    return lst\n",
    "\n",
    "# converts the list to a n by m matrix, where the list consists of n items each of size m\n",
    "def list_to_matrix(n,m,lst):\n",
    "    R = -11*np.ones((n,m))\n",
    "    for i in range(len(lst)):\n",
    "        R[int(lst[i][0])][int(lst[i][1])] = lst[i][2]\n",
    "    return R\n",
    "\n",
    "# given a matrix L, returns an index (i,j) that contains the minimum element\n",
    "def min_index(L):\n",
    "    minrowindex = []\n",
    "    minrow = []\n",
    "    for i in range(len(L)):\n",
    "        minrowindex.append(np.argmin(np.array(L[i])))\n",
    "        minrow.append(min(L[i]))\n",
    "    return (np.argmin(np.array(minrow)),minrowindex[np.argmin(np.array(minrow))])\n",
    "\n",
    "def square_error(U,V,R):\n",
    "    n = R.shape[0]\n",
    "    m = R.shape[1]\n",
    "    size = 0\n",
    "    error = 0\n",
    "    for i in range(n):\n",
    "        for j in range(m):\n",
    "            if(R[i][j] != -11):\n",
    "                error = error + (np.dot(U[i],V[j])-R[i][j])**2\n",
    "                size = size + 1\n",
    "    return error/size\n",
    "\n",
    "def absolute_error(U,V,R):\n",
    "    n = R.shape[0]\n",
    "    m = R.shape[1]\n",
    "    error = 0\n",
    "    for i in range(n):\n",
    "        ind_size = 0\n",
    "        ind_error = 0\n",
    "        for j in range(m):\n",
    "            if(R[i][j] != -11):\n",
    "                ind_error = ind_error + np.absolute(np.dot(U[i],V[j])-R[i][j])\n",
    "                ind_size = ind_size + 1\n",
    "        error = error + ind_error/ind_size\n",
    "    return error/n\n",
    "\n",
    "# function on which the prediction corresponds to outputting the average\n",
    "def average_predict(R):\n",
    "    n = R.shape[0]\n",
    "    m = R.shape[1]\n",
    "    R = replace_zero(R)\n",
    "    return np.ones((n,1)), np.reshape(np.sum(R,axis = 0)/n,(m,1))\n",
    "    \n",
    "# all -11 entries are replaced with a 0\n",
    "def replace_zero(R):\n",
    "    n = R.shape[0]\n",
    "    m = R.shape[1]\n",
    "    for i in range(n):\n",
    "        for j in range(m):\n",
    "            if(R[i][j] == -11):\n",
    "                R[i][j] = 0\n",
    "    return R\n",
    "\n",
    "m = 500\n",
    "n = 1000\n",
    "train = import_data(\"train.txt\")\n",
    "test = import_data(\"test.txt\")\n",
    "R_train = list_to_matrix(n,m,train)\n",
    "R_test = list_to_matrix(n,m,test)\n",
    "\n",
    "\n",
    "#Average Prediction\n",
    "U,V = average_predict(R_train)\n",
    "test_error_sqr = square_error(U,V,R_test)\n",
    "test_error_abs = absolute_error(U,V,R_test)\n",
    "\n",
    "print('Square test error =',test_error_sqr,', absolute test error =',test_error_abs)\n",
    "\n",
    "\n",
    "\n",
    "#SVD with error not counting zeros"
   ]
  },
  {
   "cell_type": "code",
   "execution_count": 13,
   "metadata": {},
   "outputs": [
    {
     "data": {
      "image/png": "[encoded data removed]",
      "text/plain": [
       "<Figure size 432x288 with 1 Axes>"
      ]
     },
     "metadata": {
      "needs_background": "light"
     },
     "output_type": "display_data"
    },
    {
     "data": {
      "image/png": "[encoded data removed]",
      "text/plain": [
       "<Figure size 432x288 with 1 Axes>"
      ]
     },
     "metadata": {
      "needs_background": "light"
     },
     "output_type": "display_data"
    }
   ],
   "source": [
    "#SVD with counting zeros\n",
    "R_train_zero = replace_zero(R_train) \n",
    "R_test_zero = replace_zero(R_test)\n",
    "\n",
    "user_train = R_train_zero\n",
    "jokes_train = np.transpose(R_train_zero)\n",
    "\n",
    "sqr_train = []\n",
    "sqr_test = []\n",
    "abs_train = []\n",
    "abs_test = []\n",
    "for k in [1, 2, 5, 10, 20, 50, 100, 200]:\n",
    "    user_mean = np.reshape(np.sum(user_train,axis=0)/user_train.shape[0],(user_train.shape[1],1))\n",
    "    user = user_train - np.matmul(np.ones((user_train.shape[0],1)),np.transpose(user_mean))\n",
    "    \n",
    "    # computing the svd after de-meaning the data\n",
    "    u, s, v = svds(user,k=k)\n",
    "    user_U = u * s\n",
    "    joke_V = np.transpose(v)\n",
    "    \n",
    "    #user_U and joke_V are used foer the prediction\n",
    "    sqrtr_error = square_error(user_U,joke_V,R_train)\n",
    "    sqrtst_error = square_error(user_U,joke_V,R_test)\n",
    "    sqr_train.append(sqrtr_error)\n",
    "    sqr_test.append(sqrtst_error)\n",
    "    \n",
    "    abstr_error = absolute_error(user_U,joke_V,R_train)\n",
    "    abstst_error = absolute_error(user_U,joke_V,R_test)\n",
    "    abs_train.append(abstr_error)\n",
    "    abs_test.append(abstst_error)\n",
    "\n",
    "# plot the findings\n",
    "\n",
    "# dimension vs square error\n",
    "\n",
    "plt.figure(1)\n",
    "plt.plot([1, 2, 5, 10, 20, 50, 100, 200],sqr_train,label = \"train error\")\n",
    "plt.plot([1, 2, 5, 10, 20, 50, 100, 200],sqr_test,label = \"test error\")\n",
    "plt.legend(bbox_to_anchor=(1.05, 1), loc=2, borderaxespad=0.)\n",
    "plt.xlabel('dimension')\n",
    "plt.ylabel('square error')\n",
    "plt.show();\n",
    "\n",
    "# dimension vs absolute error\n",
    "\n",
    "plt.figure(2)\n",
    "plt.plot([1, 2, 5, 10, 20, 50, 100, 200],abs_train,label = \"train error\")\n",
    "plt.plot([1, 2, 5, 10, 20, 50, 100, 200],abs_test,label = \"test error\")\n",
    "plt.legend(bbox_to_anchor=(1.05, 1), loc=2, borderaxespad=0.)\n",
    "plt.xlabel('dimension')\n",
    "plt.ylabel('absolute error')\n",
    "plt.show();"
   ]
  },
  {
   "cell_type": "code",
   "execution_count": 30,
   "metadata": {},
   "outputs": [
    {
     "name": "stdout",
     "output_type": "stream",
     "text": [
      "5.05259819648173\n"
     ]
    }
   ],
   "source": [
    "# we now use an alternate minimization scheme\n",
    "\n",
    "def obj_fun(U,V,R,lmd):\n",
    "    n = R.shape[0]\n",
    "    m = R.shape[1]\n",
    "    error = 0\n",
    "    for i in range(n):\n",
    "        for j in range(m):\n",
    "            if(R[i][j] != -11):\n",
    "                error = error + (np.dot(U[i],V[j])-R[i][j])**2\n",
    "    return error + lmd* np.sum(U*U) + lmd*np.sum(V*V)\n",
    "\n",
    "# function that finds U,V using the alternate minimization scheme where the objective is also parameterized by a lambda\n",
    "def alternate_minimize(R,lmd,k):\n",
    "    n = R.shape[0]\n",
    "    m = R.shape[1]\n",
    "    U = np.random.normal(0,1,(n,k))\n",
    "    V = np.random.normal(0,1,(m,k))\n",
    "    fnval = obj_fun(U,V,R,lmd)\n",
    "    diff = 0.1\n",
    "    while diff >= 0.01:\n",
    "        for i in range(n):\n",
    "            ind = R[i] != -11\n",
    "            A = np.matmul(np.transpose(V[ind,:]),V[ind,:]) + lmd* np.identity(k)\n",
    "            b = np.matmul(R[i,:][ind],V[ind,:])\n",
    "            U[i] = linalg.solve(A,b)\n",
    "        for j in range(m):\n",
    "            ind = R[:,j] != -11\n",
    "            A = np.matmul(np.transpose(U[ind,:]),U[ind,:]) + lmd*np.identity(k)\n",
    "            b = np.matmul(R[:,j][ind],U[ind,:])\n",
    "        \n",
    "        fnval_new = obj_fun(U,V,R,lmd) \n",
    "        diff = np.absolute(fnval - fnval_new)\n",
    "        fnval = fnval_new\n",
    "    return U,V\n",
    "\n",
    "#cross validation\n",
    "def cross_validate(n,m,train):\n",
    "    perm = np.random.permutation(len(train))\n",
    "    trn = np.reshape(train,(len(train),3))\n",
    "    \n",
    "    R_trn = list_to_matrix(n,m,trn[perm[:int(0.9*len(train))],:])\n",
    "    R_tst = list_to_matrix(n,m,trn[perm[int(0.9*len(train)):],:])\n",
    "\n",
    "    klst = []\n",
    "    dlst = [1, 2, 5, 10, 20, 50, 100, 200]\n",
    "    for k in dlst:\n",
    "        lmd = 1000\n",
    "        lmdlst = []\n",
    "        errlst = []\n",
    "        while lmd >= 0.001:\n",
    "            U,V = alternate_minimize(R_trn,lmd,k)\n",
    "            lmdlst.append(lmd)\n",
    "            errlst.append(square_error(U,V,R_tst))\n",
    "            lmd = lmd/1.5\n",
    "        klst.append(errlst)\n",
    "\n",
    "    a,b = min_index(klst)\n",
    "    return dlst[a],lmdlst[b]\n",
    "\n",
    "k,lmd = cross_validate(n,m,train)\n",
    "U,V = alternate_minimize(R_train,lmd,k)\n",
    "print(square_error(U,V,R_test))\n",
    "\n",
    "#print(\"Desired Parameters\")\n",
    "#print(d[a],lmdlst[b])\n",
    "\n",
    "#plt.figure(3)\n",
    "#plt.plot(lmdlst,errlst,label = \"test error\")\n",
    "#plt.legend(bbox_to_anchor=(1.05, 1), loc=2, borderaxespad=0.)\n",
    "#plt.xscale('log')\n",
    "#plt.show();\n",
    "#U,V = alternate_minimize(R_train,0.1,2)\n",
    "#print(U,V)"
   ]
  },
  {
   "cell_type": "code",
   "execution_count": 7,
   "metadata": {},
   "outputs": [
    {
     "name": "stdout",
     "output_type": "stream",
     "text": [
      "1 2 3\n"
     ]
    }
   ],
   "source": [
    "a = \"1,2,3\"\n",
    "x,y,z = a.split(',')\n",
    "print(x,y,z)"
   ]
  },
  {
   "cell_type": "code",
   "execution_count": 14,
   "metadata": {},
   "outputs": [
    {
     "name": "stdout",
     "output_type": "stream",
     "text": [
      "[3. 3.]\n",
      "[1. 1. 1.]\n"
     ]
    }
   ],
   "source": [
    "A = np.ones((3,2))\n",
    "print(np.sum(A,axis=0))\n",
    "print(A[:,0])"
   ]
  },
  {
   "cell_type": "code",
   "execution_count": 23,
   "metadata": {},
   "outputs": [
    {
     "name": "stdout",
     "output_type": "stream",
     "text": [
      "900\n"
     ]
    }
   ],
   "source": [
    "n = 1000\n",
    "print(int(0.9*n))"
   ]
  },
  {
   "cell_type": "code",
   "execution_count": 13,
   "metadata": {},
   "outputs": [
    {
     "name": "stdout",
     "output_type": "stream",
     "text": [
      "[[1 1]\n",
      " [2 1]\n",
      " [3 1]]\n",
      "[1]\n",
      "[[2 1]]\n"
     ]
    }
   ],
   "source": [
    "a = [[1,1],[2,1],[3,1]]\n",
    "a = np.reshape(a,(len(a),2))\n",
    "print(a)\n",
    "ind = np.random.permutation(3)[:1]\n",
    "print(ind)\n",
    "print(a[ind,:])"
   ]
  },
  {
   "cell_type": "code",
   "execution_count": 31,
   "metadata": {},
   "outputs": [
    {
     "name": "stdout",
     "output_type": "stream",
     "text": [
      "1 131.68724279835388\n"
     ]
    }
   ],
   "source": [
    "print(k,lmd)"
   ]
  },
  {
   "cell_type": "code",
   "execution_count": null,
   "metadata": {},
   "outputs": [],
   "source": []
  }
 ],
 "metadata": {
  "kernelspec": {
   "display_name": "Python 3",
   "language": "python",
   "name": "python3"
  },
  "language_info": {
   "codemirror_mode": {
    "name": "ipython",
    "version": 3
   },
   "file_extension": ".py",
   "mimetype": "text/x-python",
   "name": "python",
   "nbconvert_exporter": "python",
   "pygments_lexer": "ipython3",
   "version": "3.7.1"
  }
 },
 "nbformat": 4,
 "nbformat_minor": 2
}
