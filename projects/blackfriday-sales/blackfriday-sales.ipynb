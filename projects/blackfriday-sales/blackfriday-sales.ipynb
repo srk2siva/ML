{
 "cells": [
  {
   "cell_type": "code",
   "execution_count": 1,
   "metadata": {},
   "outputs": [],
   "source": [
    "import csv\n",
    "import numpy as np\n",
    "\n",
    "def import_data(filename):\n",
    "    raw_data = open(filename, 'rt')\n",
    "    reader = csv.reader(raw_data, delimiter=',', quoting=csv.QUOTE_NONE)\n",
    "    x = list(reader)\n",
    "    data = np.array(x[1:])\n",
    "    #data = np.array(x[1:]).astype('float')\n",
    "    #print(data.shape)\n",
    "    labels = np.array(x[0])\n",
    "    #print(labels)\n",
    "    X = data[:,:-1]\n",
    "    #print(X.shape)\n",
    "    y = data[:,-1].astype('float')\n",
    "    #y = np.reshape(y,(y.shape[0],1))\n",
    "    #print(y.shape)\n",
    "    return labels,X,y\n",
    "\n",
    "def square_error(a,b):\n",
    "    err = (a-b)**2\n",
    "    err_avg = err/err.shape[0]\n",
    "    return np.sum(err_avg)\n",
    "\n",
    "def R2_score(a,b):\n",
    "    b_avg = np.sum(b)/b.shape[0]\n",
    "    return 1 - (np.sum((a-b)**2)/np.sum((b-b_avg)**2))\n",
    "\n",
    "labels, X, y = import_data(\"BlackFriday.csv\")\n",
    "labels = labels[2:]\n",
    "X = X[:,2:]"
   ]
  },
  {
   "cell_type": "code",
   "execution_count": 2,
   "metadata": {},
   "outputs": [],
   "source": [
    "#Processing the data\n",
    "\n",
    "#print(labels)\n",
    "\n",
    "#find unique values in each column\n",
    "#unique_values = [list(sorted(set(X[:,i]))) for i in range(X.shape[1])]\n",
    "#print(unique_values)\n",
    "\n",
    "for i in range(X.shape[0]):\n",
    "    #convert M to 0 and F to 1\n",
    "    if(X[i][0] == 'M'):\n",
    "        X[i][0] = 0\n",
    "    else:\n",
    "        X[i][0] = 1\n",
    "        \n",
    "    #convert age ranges to classes\n",
    "    if(X[i][1] == '0-17'):\n",
    "        X[i][1] = 8.5\n",
    "    elif(X[i][1] == '18-25'):\n",
    "        X[i][1] = 21.5\n",
    "    elif(X[i][1] == '26-35'):\n",
    "        X[i][1] = 30.5\n",
    "    elif(X[i][1] == '36-45'):\n",
    "        X[i][1] = 40.5\n",
    "    elif(X[i][1] == '46-50'):\n",
    "        X[i][1] = 48\n",
    "    elif(X[i][1] == '51-55'):\n",
    "        X[i][1] = 53\n",
    "    else:\n",
    "        X[i][1] = 78\n",
    "        \n",
    "    #convert city category to classes\n",
    "    if(X[i][3] == 'A'):\n",
    "        X[i][3] = 0\n",
    "    elif(X[i][3] == 'B'):\n",
    "        X[i][3] = 1\n",
    "    elif(X[i][3] == 'C'):\n",
    "        X[i][3] = 2\n",
    "        \n",
    "    #convert occupation, marital status, stay in current city years and product categories to integers\n",
    "    X[i][2] = int(X[i][2])\n",
    "    \n",
    "    X[i][5] = int(X[i][5])\n",
    "    \n",
    "    if(X[i][4] == '4+'):\n",
    "        X[i][4] = 4\n",
    "    else:\n",
    "        X[i][4] = int(X[i][4])\n",
    "    \n",
    "    for j in range(6,9):\n",
    "        if(X[i][j] == ''):\n",
    "            X[i][j] = 0\n",
    "        else:\n",
    "            X[i][j] = int(X[i][j])\n",
    "\n",
    "X = X.astype('float')"
   ]
  },
  {
   "cell_type": "code",
   "execution_count": 3,
   "metadata": {},
   "outputs": [],
   "source": [
    "# test-train split\n",
    "from sklearn.model_selection import train_test_split\n",
    "\n",
    "tr_X, tst_X, tr_y, tst_y = train_test_split(X, y, test_size=0.2)\n",
    "\n",
    "#num_data = X.shape[0]\n",
    "#perm = np.random.permutation(num_data)\n",
    "\n",
    "#tr_X, tr_y = X[perm[:int(0.75*num_data)],:], y[perm[:int(0.75*num_data)]]\n",
    "#tst_X, tst_y = X[perm[int(0.75*num_data):],:], y[perm[int(0.75*num_data):]]\n",
    "\n",
    "#scale = np.max(tr_y)\n",
    "#tr_y = tr_y/scale\n",
    "#print(tr_X.shape, tr_y.shape, tst_X.shape, tst_y.shape)"
   ]
  },
  {
   "cell_type": "code",
   "execution_count": 18,
   "metadata": {
    "scrolled": false
   },
   "outputs": [
    {
     "name": "stdout",
     "output_type": "stream",
     "text": [
      "21399302.005880576\n",
      "0.13816200741003515\n"
     ]
    }
   ],
   "source": [
    "#lasso regression (l_1 regularizer)\n",
    "from sklearn.linear_model import LassoCV\n",
    "\n",
    "lasso_reg = LassoCV(cv=5)\n",
    "lasso_reg = lasso_reg.fit(tr_X,tr_y)\n",
    "\n",
    "y_pred = lasso_reg.predict(tst_X)\n",
    "\n",
    "# Uncomment to print the square error\n",
    "#err = square_error(y_pred,tst_y)\n",
    "#print(err)\n",
    "\n",
    "#Uncomment the following line to print the R2 score\n",
    "print(lasso_reg.score(tst_X,tst_y))"
   ]
  },
  {
   "cell_type": "code",
   "execution_count": 19,
   "metadata": {},
   "outputs": [
    {
     "name": "stdout",
     "output_type": "stream",
     "text": [
      "21397990.545834295\n",
      "0.13821482530537266\n"
     ]
    }
   ],
   "source": [
    "#ridge regression (l_2 regularizer)\n",
    "from sklearn.linear_model import RidgeCV\n",
    "\n",
    "ridge_reg = RidgeCV(alphas = [1000/1.1**i for i in range(30)])\n",
    "ridge_reg = ridge_reg.fit(tr_X,tr_y)\n",
    "\n",
    "y_pred = ridge_reg.predict(tst_X)\n",
    "\n",
    "# Uncomment to print the square error\n",
    "#err = square_error(y_pred,tst_y)\n",
    "#print(err)\n",
    "\n",
    "#Uncomment the following line to print the R2 score\n",
    "print(ridge_reg.score(tst_X,tst_y))"
   ]
  },
  {
   "cell_type": "code",
   "execution_count": 20,
   "metadata": {},
   "outputs": [
    {
     "name": "stdout",
     "output_type": "stream",
     "text": [
      "9326014.609742649\n",
      "0.6244029965128506\n"
     ]
    }
   ],
   "source": [
    "#random forests regression\n",
    "from sklearn.ensemble import RandomForestRegressor\n",
    "\n",
    "rnd_forest = RandomForestRegressor(n_estimators=100)\n",
    "rnd_forest = rnd_forest.fit(tr_X,tr_y)\n",
    "y_pred = rnd_forest.predict(tst_X)\n",
    "\n",
    "# Uncomment to print the square error\n",
    "#err = square_error(y_pred,tst_y)\n",
    "#print(err)\n",
    "\n",
    "#Uncomment the following line to print the R2 score\n",
    "print(rnd_forest.score(tst_X,tst_y))"
   ]
  },
  {
   "cell_type": "code",
   "execution_count": 21,
   "metadata": {},
   "outputs": [
    {
     "name": "stdout",
     "output_type": "stream",
     "text": [
      "20377827.669578332\n",
      "0.1793009843373654\n"
     ]
    }
   ],
   "source": [
    "#k-means and averaging to do the predictions.\n",
    "from sklearn.cluster import KMeans\n",
    "\n",
    "num_clusters = 128\n",
    "tr_y_clusters = np.zeros((tr_y.shape[0],num_clusters)) \n",
    "\n",
    "kmeans = KMeans(n_clusters=num_clusters)\n",
    "kmeans = kmeans.fit(tr_X)\n",
    "\n",
    "cluster_labels = kmeans.predict(tr_X)\n",
    "\n",
    "for i in range(tr_y.shape[0]):\n",
    "    tr_y_clusters[i][cluster_labels[i]] = tr_y[i]\n",
    "    \n",
    "cluster_avg = [np.sum(tr_y_clusters[:,i])/np.count_nonzero(tr_y_clusters[:,i]) for i in range(num_clusters)]\n",
    "\n",
    "cluster_var = [np.sum([(x-cluster_avg[i])**2 for x in tr_y_clusters[:,i] if x != 0])/np.count_nonzero(tr_y_clusters[:,i]) for i in range(num_clusters)]\n",
    "\n",
    "#print(cluster_avg)\n",
    "#print(max(cluster_var))\n",
    "\n",
    "tst_cluster = kmeans.predict(tst_X)\n",
    "y_pred = [cluster_avg[tst_cluster[i]] for i in range(tst_X.shape[0])]\n",
    "\n",
    "# Uncomment to print the square error\n",
    "#err = square_error(y_pred,tst_y)\n",
    "#print(err)\n",
    "\n",
    "# Uncomment to print the R2 score\n",
    "r2score = R2_score(y_pred,tst_y)\n",
    "print(r2score)"
   ]
  },
  {
   "cell_type": "code",
   "execution_count": 22,
   "metadata": {},
   "outputs": [
    {
     "name": "stdout",
     "output_type": "stream",
     "text": [
      "20192987.21506892\n",
      "0.18674527042763245\n"
     ]
    }
   ],
   "source": [
    "#mini-batch Kmeans with averaging\n",
    "from sklearn.cluster import MiniBatchKMeans\n",
    "\n",
    "num_clusters = 128\n",
    "tr_y_clusters = np.zeros((tr_y.shape[0],num_clusters)) \n",
    "\n",
    "m_kmeans = MiniBatchKMeans(n_clusters=num_clusters)\n",
    "m_kmeans = m_kmeans.fit(tr_X)\n",
    "\n",
    "cluster_labels = m_kmeans.predict(tr_X)\n",
    "\n",
    "for i in range(tr_y.shape[0]):\n",
    "    tr_y_clusters[i][cluster_labels[i]] = tr_y[i]\n",
    "    \n",
    "cluster_avg = [np.sum(tr_y_clusters[:,i])/np.count_nonzero(tr_y_clusters[:,i]) for i in range(num_clusters)]\n",
    "\n",
    "cluster_var = [np.sum([(x-cluster_avg[i])**2 for x in tr_y_clusters[:,i] if x != 0])/np.count_nonzero(tr_y_clusters[:,i]) for i in range(num_clusters)]\n",
    "\n",
    "#print(cluster_avg)\n",
    "#print(max(cluster_var))\n",
    "\n",
    "tst_cluster = m_kmeans.predict(tst_X)\n",
    "y_pred = [cluster_avg[tst_cluster[i]] for i in range(tst_X.shape[0])]\n",
    "\n",
    "# Uncomment to print the square error\n",
    "#err = square_error(y_pred,tst_y)\n",
    "#print(err)\n",
    "\n",
    "# Uncomment to print the R2 score\n",
    "r2score = R2_score(y_pred,tst_y)\n",
    "print(r2score)"
   ]
  },
  {
   "cell_type": "code",
   "execution_count": 23,
   "metadata": {},
   "outputs": [
    {
     "name": "stdout",
     "output_type": "stream",
     "text": [
      "10835893.333951116\n",
      "0.5635939641262555\n"
     ]
    }
   ],
   "source": [
    "#k-nearest neighbour regression\n",
    "from sklearn.neighbors import KNeighborsRegressor\n",
    "\n",
    "knear_reg = KNeighborsRegressor(n_neighbors=5)\n",
    "knear_reg = knear_reg.fit(tr_X,tr_y)\n",
    "\n",
    "y_pred = knear_reg.predict(tst_X)\n",
    "\n",
    "# Uncomment to print the square error\n",
    "#err = square_error(y_pred,tst_y)\n",
    "#print(err)\n",
    "\n",
    "# Uncomment to print the R2 score\n",
    "print(knear_reg.score(tst_X,tst_y))"
   ]
  },
  {
   "cell_type": "code",
   "execution_count": 5,
   "metadata": {},
   "outputs": [
    {
     "name": "stdout",
     "output_type": "stream",
     "text": [
      "7942.7875\n"
     ]
    },
    {
     "name": "stderr",
     "output_type": "stream",
     "text": [
      "/anaconda3/lib/python3.7/site-packages/sklearn/ensemble/forest.py:246: FutureWarning: The default value of n_estimators will change from 10 in version 0.20 to 100 in 0.22.\n",
      "  \"10 in version 0.20 to 100 in 0.22.\", FutureWarning)\n"
     ]
    },
    {
     "name": "stdout",
     "output_type": "stream",
     "text": [
      "15189160.262432195\n",
      "0.3891933175977019\n"
     ]
    }
   ],
   "source": [
    "#k-means to cluster the prediction data\n",
    "from sklearn.cluster import KMeans\n",
    "\n",
    "num_clusters = 256\n",
    "tr_y_clusters = np.zeros((tr_y.shape[0],num_clusters)) \n",
    "\n",
    "kmeans = KMeans(n_clusters=num_clusters)\n",
    "kmeans = kmeans.fit(np.reshape(tr_y,(-1,1)))\n",
    "\n",
    "cluster_labels = kmeans.predict(np.reshape(tr_y,(-1,1)))\n",
    "\n",
    "for i in range(tr_y.shape[0]):\n",
    "    tr_y_clusters[i][cluster_labels[i]] = tr_y[i]\n",
    "    \n",
    "cluster_avg = [np.sum(tr_y_clusters[:,i])/np.count_nonzero(tr_y_clusters[:,i]) for i in range(num_clusters)]\n",
    "\n",
    "cluster_var = [np.sum([(x-cluster_avg[i])**2 for x in tr_y_clusters[:,i] if x != 0])/np.count_nonzero(tr_y_clusters[:,i]) for i in range(num_clusters)]\n",
    "\n",
    "#print(cluster_avg)\n",
    "#print(max(cluster_var))\n",
    "\n",
    "#decision tree classifier\n",
    "from sklearn.ensemble import RandomForestClassifier\n",
    "\n",
    "rf_cls = RandomForestClassifier(criterion = 'entropy')\n",
    "rf_cls = rf_cls.fit(tr_X,cluster_labels)\n",
    "y_pred_cls = rf_cls.predict(tst_X)\n",
    "y_pred = [cluster_avg[y_pred_cls[i]] for i in range(tst_X.shape[0])]\n",
    "\n",
    "# Uncomment to print the square error\n",
    "#err = square_error(y_pred,tst_y)\n",
    "#print(err)\n",
    "\n",
    "# Uncomment to print the R2 score\n",
    "r2score = R2_score(y_pred,tst_y)\n",
    "print(r2score)"
   ]
  },
  {
   "cell_type": "code",
   "execution_count": 9,
   "metadata": {},
   "outputs": [
    {
     "name": "stderr",
     "output_type": "stream",
     "text": [
      "/anaconda3/lib/python3.7/site-packages/sklearn/linear_model/sag.py:334: ConvergenceWarning: The max_iter was reached which means the coef_ did not converge\n",
      "  \"the coef_ did not converge\", ConvergenceWarning)\n"
     ]
    },
    {
     "name": "stdout",
     "output_type": "stream",
     "text": [
      "23198954.55685636\n",
      "0.06709283309608782\n"
     ]
    }
   ],
   "source": [
    "from sklearn.linear_model import LogisticRegression\n",
    "\n",
    "log_reg = LogisticRegression(solver='sag', max_iter = 75, multi_class='multinomial')\n",
    "log_reg = log_reg.fit(tr_X,cluster_labels)\n",
    "pred = log_reg.predict_proba(tst_X)\n",
    "\n",
    "y_pred_cls = [np.argmax(pred[i]) for i in range(tst_X.shape[0])]\n",
    "y_pred = [cluster_avg[y_pred_cls[i]] for i in range(tst_X.shape[0])]\n",
    "\n",
    "# Uncomment to print the square error\n",
    "#err = square_error(y_pred,tst_y)\n",
    "#print(err)\n",
    "\n",
    "# Uncomment to print the R2 score\n",
    "r2score = R2_score(y_pred,tst_y)\n",
    "print(r2score)"
   ]
  },
  {
   "cell_type": "code",
   "execution_count": null,
   "metadata": {},
   "outputs": [],
   "source": []
  }
 ],
 "metadata": {
  "kernelspec": {
   "display_name": "Python 3",
   "language": "python",
   "name": "python3"
  },
  "language_info": {
   "codemirror_mode": {
    "name": "ipython",
    "version": 3
   },
   "file_extension": ".py",
   "mimetype": "text/x-python",
   "name": "python",
   "nbconvert_exporter": "python",
   "pygments_lexer": "ipython3",
   "version": "3.7.1"
  }
 },
 "nbformat": 4,
 "nbformat_minor": 2
}
