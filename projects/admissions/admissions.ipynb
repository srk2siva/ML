{
 "cells": [
  {
   "cell_type": "code",
   "execution_count": 5,
   "metadata": {},
   "outputs": [],
   "source": [
    "import csv\n",
    "import numpy as np\n",
    "\n",
    "def import_data(filename):\n",
    "    raw_data = open(filename, 'rt')\n",
    "    reader = csv.reader(raw_data, delimiter=',', quoting=csv.QUOTE_NONE)\n",
    "    x = list(reader)\n",
    "    data = np.array(x[1:]).astype('float')\n",
    "    labels = np.array(x[0])\n",
    "    X = data[:,:-1]\n",
    "    y = data[:,-1]\n",
    "    return labels,X,y\n",
    "\n",
    "def square_error(a,b):\n",
    "    err = a-b\n",
    "    err_avg = err*err/err.shape[0]\n",
    "    return np.sum(err_avg)\n",
    "\n",
    "tr_labels, tr_X, tr_y = import_data(\"train.csv\")\n",
    "tst_labels, tst_X, tst_y = import_data(\"test.csv\")\n",
    "tr_X = tr_X[:,1:]\n",
    "tst_X = tst_X[:,1:]"
   ]
  },
  {
   "cell_type": "code",
   "execution_count": 6,
   "metadata": {},
   "outputs": [
    {
     "name": "stdout",
     "output_type": "stream",
     "text": [
      "Linear Rigression:\n",
      "0.005051850193760437\n",
      "Ridge Regression:\n",
      "0.00515486083368509\n"
     ]
    }
   ],
   "source": [
    "def linear_regression(X,y):\n",
    "    A = np.matmul(np.transpose(X),X)\n",
    "    b = np.matmul(np.transpose(X),y)\n",
    "    w = np.linalg.solve(A,b)\n",
    "    return w\n",
    "\n",
    "def lasso(X,y,lmd):\n",
    "    A = np.matmul(np.transpose(X),X) + lmd * np.identity(X.shape[1])\n",
    "    b = np.matmul(np.transpose(X),y)\n",
    "    w = np.linalg.solve(A,b)\n",
    "    return w\n",
    "\n",
    "def lasso_CV(X,y):\n",
    "    perm = np.random.permutation(X.shape[0])\n",
    "    perm_trn = perm[:int(0.8*X.shape[0])]\n",
    "    perm_val = perm[int(0.8*X.shape[0]):]\n",
    "    X_trn = X[perm_trn]\n",
    "    y_trn = y[perm_trn]\n",
    "    X_val = X[perm_val]\n",
    "    y_val = y[perm_val]\n",
    "    \n",
    "    lmd = 1000\n",
    "    lmd_lst = [100/pow(1.1,i) for i in range(20)]\n",
    "    \n",
    "    err_lst = [square_error(np.matmul(X_val,lasso(X_trn,y_trn,l)),y_val) for l in lmd_lst]\n",
    "    min_lmd = lmd_lst[np.argmin(err_lst)]\n",
    "    return min_lmd,err_lst\n",
    "\n",
    "w = linear_regression(tr_X,tr_y)\n",
    "y_pred = np.matmul(tst_X,w)\n",
    "sqr_err = square_error(np.matmul(tst_X,w),tst_y)\n",
    "print(\"Linear Rigression:\")\n",
    "print(sqr_err)\n",
    "\n",
    "lmd,err_lst = lasso_CV(tr_X,tr_y)\n",
    "\n",
    "#uncomment the following line to print the optimal value of lambda chosen\n",
    "#print(lmd)\n",
    "#print(err_lst)\n",
    "\n",
    "w = lasso(tr_X,tr_y,lmd)\n",
    "y_pred = np.matmul(tst_X,w)\n",
    "sqr_err = square_error(np.matmul(tst_X,w),tst_y)\n",
    "print(\"Ridge Regression:\")\n",
    "print(sqr_err)"
   ]
  },
  {
   "cell_type": "code",
   "execution_count": 7,
   "metadata": {},
   "outputs": [
    {
     "name": "stdout",
     "output_type": "stream",
     "text": [
      "Logistic regression with more than two classes:\n",
      "0.0637945\n",
      "Decision tree with more than two classes:\n",
      "0.005094499999999999\n"
     ]
    }
   ],
   "source": [
    "from sklearn.linear_model import LogisticRegression\n",
    "\n",
    "#function that maps a real number to the closest integer\n",
    "def closest_integer(num):\n",
    "    isneg = False\n",
    "    if(num < 0):\n",
    "        isneg = True\n",
    "        num = num * -1\n",
    "    \n",
    "    flr = int(num)\n",
    "    clst = flr\n",
    "    if(num-flr > flr+1-num):\n",
    "        clst = flr+1\n",
    "    \n",
    "    if(isneg):\n",
    "        return clst* -1\n",
    "    return clst\n",
    "\n",
    "############################################################\n",
    "\n",
    "#logistic regression with two classes\n",
    "#converting tr_y into binary\n",
    "binary_tr_y = []\n",
    "for i in range(tr_y.shape[0]):\n",
    "    if(tr_y[i] < 0.85):\n",
    "        binary_tr_y.append(0)\n",
    "    else:\n",
    "        binary_tr_y.append(1)\n",
    "\n",
    "log_reg = LogisticRegression(solver='lbfgs', max_iter = 2000).fit(tr_X,binary_tr_y)\n",
    "pred = log_reg.predict_proba(tst_X)\n",
    "\n",
    "binary_tst_y = []\n",
    "for i in range(tst_y.shape[0]):\n",
    "    if(tst_y[i] < 0.85):\n",
    "        binary_tst_y.append(0)\n",
    "    else:\n",
    "        binary_tst_y.append(1)\n",
    "\n",
    "\n",
    "# Uncomment the following line to print the average number of correct classifications\n",
    "#print(log_reg.score(tst_X,binary_tst_y))\n",
    "\n",
    "############################################################\n",
    "\n",
    "#Logistic Regression with more than 2 classes\n",
    "#alph denotes the number of classes. It is set to 4, but change it to see how it affects the error.\n",
    "alph = 4\n",
    "mult_tr_y = [closest_integer(i*alph) for i in [tr_y[j] for j in range(tr_y.shape[0])]]\n",
    "\n",
    "log_reg = LogisticRegression(solver='sag', max_iter = 7500, multi_class='multinomial').fit(tr_X,mult_tr_y)\n",
    "pred = log_reg.predict_proba(tst_X)\n",
    "\n",
    "mult_tst_y = [closest_integer(i*alph) for i in [tst_y[j] for j in range(tst_y.shape[0])]]\n",
    "\n",
    "#Uncomment the following lines to print the average number of correct classifications\n",
    "#print(\"Fraction classified correctly:\")\n",
    "#print(log_reg.score(tst_X,mult_tst_y))\n",
    "\n",
    "pred_max = [j/alph for j in [np.argmax(pred[i]) for i in range(pred.shape[0])]]\n",
    "\n",
    "print(\"Square error for logistic regression with more than two classes =\")\n",
    "print(square_error(pred_max,tst_y))\n",
    "\n",
    "############################################################\n",
    "\n",
    "#Decision Tree with more than 2 classes\n",
    "from sklearn.tree import DecisionTreeClassifier\n",
    "dtree = DecisionTreeClassifier(criterion = 'entropy')\n",
    "dtree = dtree.fit(tr_X,mult_tr_y)\n",
    "y_pred = dtree.predict(tst_X)\n",
    "\n",
    "#Uncomment the following the print the average number of correct classifications\n",
    "#print(dtree.score(tst_X,mult_tst_y))\n",
    "\n",
    "pred_avg = [i/alph for i in y_pred]\n",
    "print(\"square error for decision trees with more than two classes =\")\n",
    "print(square_error(pred_avg,tst_y))"
   ]
  },
  {
   "cell_type": "code",
   "execution_count": 10,
   "metadata": {},
   "outputs": [
    {
     "name": "stdout",
     "output_type": "stream",
     "text": [
      "0.0\n"
     ]
    }
   ],
   "source": [
    "#regression decision tree\n",
    "from sklearn.tree import DecisionTreeRegressor\n",
    "\n",
    "dtree_reg = DecisionTreeRegressor()\n",
    "dtree_reg = dtree_reg.fit(tr_X,tr_y)\n",
    "\n",
    "y_pred = dtree_reg.predict(tst_X)\n",
    "\n",
    "err = square_error(y_pred,tst_y)\n",
    "print('Square error for regression decision trees =',err)\n",
    "\n",
    "#Uncomment the following line to print the R2 score\n",
    "#print(dtree_reg.score(tst_X,tst_y))"
   ]
  },
  {
   "cell_type": "code",
   "execution_count": 11,
   "metadata": {},
   "outputs": [
    {
     "name": "stdout",
     "output_type": "stream",
     "text": [
      "9.244463733058732e-35\n"
     ]
    }
   ],
   "source": [
    "#regression decision tree with random spits\n",
    "from sklearn.tree import DecisionTreeRegressor\n",
    "\n",
    "dtree_reg = DecisionTreeRegressor(splitter = 'random')\n",
    "dtree_reg = dtree_reg.fit(tr_X,tr_y)\n",
    "\n",
    "y_pred = dtree_reg.predict(tst_X)\n",
    "\n",
    "err = square_error(y_pred,tst_y)\n",
    "print('Square error for regression decision trees with random splits =',err)\n",
    "\n",
    "#Uncomment the following line to print the R2 score\n",
    "#print(dtree_reg.score(tst_X,tst_y))"
   ]
  },
  {
   "cell_type": "code",
   "execution_count": 12,
   "metadata": {},
   "outputs": [
    {
     "name": "stdout",
     "output_type": "stream",
     "text": [
      "0.0040237137591559585\n"
     ]
    }
   ],
   "source": [
    "#lasso regression (l_1 regularizer)\n",
    "from sklearn.linear_model import LassoCV\n",
    "\n",
    "lasso_reg = LassoCV(cv=5)\n",
    "lasso_reg = lasso_reg.fit(tr_X,tr_y)\n",
    "\n",
    "y_pred = lasso_reg.predict(tst_X)\n",
    "\n",
    "err = square_error(y_pred,tst_y)\n",
    "print('Square error for LASSO =',err)\n",
    "\n",
    "#Uncomment the following line to print the R2 score\n",
    "#print(lasso_reg.score(tst_X,tst_y))"
   ]
  },
  {
   "cell_type": "code",
   "execution_count": 13,
   "metadata": {},
   "outputs": [
    {
     "name": "stdout",
     "output_type": "stream",
     "text": [
      "0.004398690164702783\n"
     ]
    }
   ],
   "source": [
    "#ridge regression (l_2 regularizer)\n",
    "from sklearn.linear_model import RidgeCV\n",
    "\n",
    "ridge_reg = RidgeCV(alphas = [1000/1.1**i for i in range(30)])\n",
    "ridge_reg = ridge_reg.fit(tr_X,tr_y)\n",
    "\n",
    "y_pred = ridge_reg.predict(tst_X)\n",
    "\n",
    "err = square_error(y_pred,tst_y)\n",
    "print('Square error for RIDGE regression =',err)\n",
    "\n",
    "#Uncomment the following line to print the R2 score\n",
    "#print(ridge_reg.score(tst_X,tst_y))"
   ]
  },
  {
   "cell_type": "code",
   "execution_count": 40,
   "metadata": {},
   "outputs": [
    {
     "name": "stdout",
     "output_type": "stream",
     "text": [
      "0.0009070556799999981\n"
     ]
    }
   ],
   "source": [
    "#random forests regression\n",
    "from sklearn.ensemble import RandomForestRegressor\n",
    "\n",
    "rnd_forest = RandomForestRegressor(n_estimators=100)\n",
    "rnd_forest = rnd_forest.fit(tr_X,tr_y)\n",
    "y_pred = rnd_forest.predict(tst_X)\n",
    "\n",
    "err = square_error(y_pred,tst_y)\n",
    "print('Square error for random forests =',err)\n",
    "\n",
    "#Uncomment the following line to print the R2 score\n",
    "#print(rnd_forest.score(tst_X,tst_y))"
   ]
  },
  {
   "cell_type": "code",
   "execution_count": 14,
   "metadata": {},
   "outputs": [
    {
     "name": "stdout",
     "output_type": "stream",
     "text": [
      "0.00389748771789966\n"
     ]
    }
   ],
   "source": [
    "#k-means and averaging to do the predictions.\n",
    "from sklearn.cluster import KMeans\n",
    "\n",
    "num_clusters = 128\n",
    "tr_y_clusters = np.zeros((tr_y.shape[0],num_clusters)) \n",
    "\n",
    "kmeans = KMeans(n_clusters=num_clusters)\n",
    "kmeans = kmeans.fit(tr_X)\n",
    "\n",
    "cluster_labels = kmeans.predict(tr_X)\n",
    "\n",
    "for i in range(tr_y.shape[0]):\n",
    "    tr_y_clusters[i][cluster_labels[i]] = tr_y[i]\n",
    "    \n",
    "cluster_avg = [np.sum(tr_y_clusters[:,i])/np.count_nonzero(tr_y_clusters[:,i]) for i in range(num_clusters)]\n",
    "\n",
    "cluster_var = [np.sum([(x-cluster_avg[i])**2 for x in tr_y_clusters[:,i] if x != 0])/np.count_nonzero(tr_y_clusters[:,i]) for i in range(num_clusters)]\n",
    "\n",
    "#print(cluster_avg)\n",
    "#print(max(cluster_var))\n",
    "\n",
    "tst_cluster = kmeans.predict(tst_X)\n",
    "y_pred = [cluster_avg[tst_cluster[i]] for i in range(tst_X.shape[0])]\n",
    "err = square_error(y_pred,tst_y)\n",
    "print('Square error for kmeans and averaging =',err)"
   ]
  },
  {
   "cell_type": "code",
   "execution_count": 15,
   "metadata": {},
   "outputs": [
    {
     "name": "stdout",
     "output_type": "stream",
     "text": [
      "0.004986348260724208\n"
     ]
    }
   ],
   "source": [
    "#mini-batch Kmeans with averaging\n",
    "from sklearn.cluster import MiniBatchKMeans\n",
    "\n",
    "num_clusters = 64\n",
    "tr_y_clusters = np.zeros((tr_y.shape[0],num_clusters)) \n",
    "\n",
    "m_kmeans = MiniBatchKMeans(n_clusters=num_clusters)\n",
    "m_kmeans = m_kmeans.fit(tr_X)\n",
    "\n",
    "cluster_labels = m_kmeans.predict(tr_X)\n",
    "\n",
    "for i in range(tr_y.shape[0]):\n",
    "    tr_y_clusters[i][cluster_labels[i]] = tr_y[i]\n",
    "    \n",
    "cluster_avg = [np.sum(tr_y_clusters[:,i])/np.count_nonzero(tr_y_clusters[:,i]) for i in range(num_clusters)]\n",
    "\n",
    "cluster_var = [np.sum([(x-cluster_avg[i])**2 for x in tr_y_clusters[:,i] if x != 0])/np.count_nonzero(tr_y_clusters[:,i]) for i in range(num_clusters)]\n",
    "\n",
    "#print(cluster_avg)\n",
    "#print(max(cluster_var))\n",
    "\n",
    "tst_cluster = m_kmeans.predict(tst_X)\n",
    "y_pred = [cluster_avg[tst_cluster[i]] for i in range(tst_X.shape[0])]\n",
    "err = square_error(y_pred,tst_y)\n",
    "print('Square error for minibatch kmeans and averaging =',err)"
   ]
  },
  {
   "cell_type": "code",
   "execution_count": 21,
   "metadata": {},
   "outputs": [
    {
     "name": "stdout",
     "output_type": "stream",
     "text": [
      "[[1. 1. 1.]\n",
      " [1. 1. 1.]\n",
      " [1. 1. 1.]]\n",
      "[[1. 1.]\n",
      " [1. 1.]\n",
      " [1. 1.]]\n",
      "[1. 1. 1. 2. 1. 1. 1. 1. 1.]\n",
      "[1. 2. 1.]\n"
     ]
    }
   ],
   "source": [
    "A = np.ones((3,3))\n",
    "print(A)\n",
    "print(A[:,:2])\n",
    "A[1,0] = 2\n",
    "print(np.reshape(A,(-1,)))\n",
    "print(A[:,0])"
   ]
  },
  {
   "cell_type": "code",
   "execution_count": 15,
   "metadata": {},
   "outputs": [
    {
     "name": "stdout",
     "output_type": "stream",
     "text": [
      "[1. 4. 1.]\n"
     ]
    }
   ],
   "source": [
    "a = np.ones(3)\n",
    "a[1] = 2\n",
    "print(a*a)"
   ]
  },
  {
   "cell_type": "code",
   "execution_count": 20,
   "metadata": {},
   "outputs": [
    {
     "name": "stdout",
     "output_type": "stream",
     "text": [
      "2\n",
      "[[1. 1.]\n",
      " [1. 1.]] [[1.]\n",
      " [1.]]\n",
      "(2, 1)\n",
      "[[2.]\n",
      " [2.]]\n"
     ]
    }
   ],
   "source": [
    "print(int(2.5))\n",
    "A = np.ones((2,2))\n",
    "B = np.ones((2,1))\n",
    "print(A,B)\n",
    "print(B.shape)\n",
    "print(np.matmul(A,B))"
   ]
  },
  {
   "cell_type": "code",
   "execution_count": null,
   "metadata": {},
   "outputs": [],
   "source": []
  }
 ],
 "metadata": {
  "kernelspec": {
   "display_name": "Python 3",
   "language": "python",
   "name": "python3"
  },
  "language_info": {
   "codemirror_mode": {
    "name": "ipython",
    "version": 3
   },
   "file_extension": ".py",
   "mimetype": "text/x-python",
   "name": "python",
   "nbconvert_exporter": "python",
   "pygments_lexer": "ipython3",
   "version": "3.7.1"
  }
 },
 "nbformat": 4,
 "nbformat_minor": 2
}
